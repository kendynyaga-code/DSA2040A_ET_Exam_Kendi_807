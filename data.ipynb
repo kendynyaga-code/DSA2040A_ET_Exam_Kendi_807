{
 "cells": [
  {
   "cell_type": "code",
   "execution_count": 1,
   "id": "a8a79431",
   "metadata": {},
   "outputs": [
    {
     "name": "stdout",
     "output_type": "stream",
     "text": [
      "Defaulting to user installation because normal site-packages is not writeable\n",
      "Requirement already satisfied: Faker in c:\\users\\nyaga\\appdata\\local\\packages\\pythonsoftwarefoundation.python.3.13_qbz5n2kfra8p0\\localcache\\local-packages\\python313\\site-packages (37.11.0)\n",
      "Requirement already satisfied: tzdata in c:\\users\\nyaga\\appdata\\local\\packages\\pythonsoftwarefoundation.python.3.13_qbz5n2kfra8p0\\localcache\\local-packages\\python313\\site-packages (from Faker) (2025.2)\n",
      "Note: you may need to restart the kernel to use updated packages.\n",
      "(8000, 10)\n"
     ]
    }
   ],
   "source": [
    "%pip install Faker\n",
    "from faker import Faker\n",
    "from pathlib import Path\n",
    "import os\n",
    "import pandas as pd\n",
    "import random\n",
    "\n",
    "# ensure output directory exists\n",
    "Path(\"data\").mkdir(parents=True, exist_ok=True)\n",
    "\n",
    "fake = Faker()\n",
    "rows = 8000\n",
    "\n",
    "data = []\n",
    "for _ in range(rows):\n",
    "    data.append({\n",
    "        \"student_id\": fake.unique.random_int(min=1000, max=9999),\n",
    "        \"name\": fake.name(),\n",
    "        \"gender\": random.choice([\"Male\", \"Female\"]),\n",
    "        \"age\": random.randint(18, 25),\n",
    "        \"subject\": random.choice([\"Math\", \"Science\", \"English\", \"History\", \"Computer\"]),\n",
    "        \"exam_score\": round(random.uniform(40, 100), 2),\n",
    "        \"exam_date\": fake.date_between(start_date='-1y', end_date='today'),\n",
    "        \"region\": fake.city(),\n",
    "        \"grade_level\": random.choice([\"Year 1\", \"Year 2\", \"Year 3\", \"Year 4\"]),\n",
    "        \"school\": fake.company()\n",
    "    })\n",
    "\n",
    "df = pd.DataFrame(data)\n",
    "df.to_csv('data/raw_data.csv', index=False)\n",
    "\n",
    "# incremental file (last 1000 rows)\n",
    "df.tail(1000).to_csv('data/incremental_data.csv', index=False)\n",
    "\n",
    "print(df.shape)\n"
   ]
  }
 ],
 "metadata": {
  "kernelspec": {
   "display_name": "Python 3",
   "language": "python",
   "name": "python3"
  },
  "language_info": {
   "codemirror_mode": {
    "name": "ipython",
    "version": 3
   },
   "file_extension": ".py",
   "mimetype": "text/x-python",
   "name": "python",
   "nbconvert_exporter": "python",
   "pygments_lexer": "ipython3",
   "version": "3.13.9"
  }
 },
 "nbformat": 4,
 "nbformat_minor": 5
}
